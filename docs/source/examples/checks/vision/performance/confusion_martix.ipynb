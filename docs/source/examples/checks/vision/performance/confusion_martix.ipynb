{
 "cells": [
  {
   "cell_type": "markdown",
   "id": "e767e792",
   "metadata": {},
   "source": [
    "# Confision Matrix"
   ]
  },
  {
   "cell_type": "code",
   "execution_count": 1,
   "id": "1296c2d1-f748-4cc4-b2b8-4440aedc8431",
   "metadata": {},
   "outputs": [],
   "source": [
    "%load_ext autoreload\n",
    "%autoreload 2"
   ]
  },
  {
   "cell_type": "markdown",
   "id": "09c7ee01-6999-465e-a318-56570b008526",
   "metadata": {},
   "source": [
    "## Imports"
   ]
  },
  {
   "cell_type": "code",
   "execution_count": 5,
   "id": "a8bef717-c573-43ec-8589-a81ecc08f2bb",
   "metadata": {},
   "outputs": [],
   "source": [
    "from deepchecks.vision.dataset import VisionData\n",
    "from torchvision import models\n",
    "import torchvision\n",
    "import torch\n",
    "from torch import nn\n",
    "import torch.nn.functional as F\n",
    "from torchvision.transforms import ToTensor\n",
    "import copy"
   ]
  },
  {
   "cell_type": "code",
   "execution_count": 6,
   "id": "bc53a3b6-ec0b-4727-bdb2-29ed385d30d9",
   "metadata": {
    "tags": []
   },
   "outputs": [],
   "source": [
    "from deepchecks.vision.checks.performance import ConfusionMatrixReport"
   ]
  },
  {
   "cell_type": "markdown",
   "id": "788f9178-dcc1-4212-9a84-949a7a4fde92",
   "metadata": {},
   "source": [
    "## Loading data and model:"
   ]
  },
  {
   "cell_type": "code",
   "execution_count": 8,
   "id": "d6de7931-4d0a-42b5-afcb-ce1cc1d7c93d",
   "metadata": {},
   "outputs": [
    {
     "ename": "ImportError",
     "evalue": "cannot import name 'load_mnist' from 'deepchecks.vision.datasets.classification.mnist' (/Users/dbi/git/deepchecks/deepchecks/vision/datasets/classification/mnist.py)",
     "output_type": "error",
     "traceback": [
      "\u001b[0;31m---------------------------------------------------------------------------\u001b[0m",
      "\u001b[0;31mImportError\u001b[0m                               Traceback (most recent call last)",
      "Input \u001b[0;32mIn [8]\u001b[0m, in \u001b[0;36m<module>\u001b[0;34m\u001b[0m\n\u001b[0;32m----> 1\u001b[0m \u001b[38;5;28;01mfrom\u001b[39;00m \u001b[38;5;21;01mdeepchecks\u001b[39;00m\u001b[38;5;21;01m.\u001b[39;00m\u001b[38;5;21;01mvision\u001b[39;00m\u001b[38;5;21;01m.\u001b[39;00m\u001b[38;5;21;01mdatasets\u001b[39;00m\u001b[38;5;21;01m.\u001b[39;00m\u001b[38;5;21;01mclassification\u001b[39;00m\u001b[38;5;21;01m.\u001b[39;00m\u001b[38;5;21;01mmnist\u001b[39;00m \u001b[38;5;28;01mimport\u001b[39;00m load_mnist, MNistNet, mnist_train_loader, mnist_test_loader\n",
      "\u001b[0;31mImportError\u001b[0m: cannot import name 'load_mnist' from 'deepchecks.vision.datasets.classification.mnist' (/Users/dbi/git/deepchecks/deepchecks/vision/datasets/classification/mnist.py)"
     ]
    }
   ],
   "source": [
    "from deepchecks.vision.datasets.classification.mnist import load_mnist, MNistNet, mnist_train_loader, mnist_test_loader"
   ]
  },
  {
   "cell_type": "code",
   "execution_count": 9,
   "id": "89124a96-4ca8-4901-b699-cbc30a56b209",
   "metadata": {},
   "outputs": [],
   "source": [
    "def simple_nn():\n",
    "    torch.manual_seed(42)\n",
    "\n",
    "    # Define model\n",
    "    class NeuralNetwork(nn.Module):\n",
    "        def __init__(self):\n",
    "            super(NeuralNetwork, self).__init__()\n",
    "            self.flatten = nn.Flatten()\n",
    "            self.linear_relu_stack = nn.Sequential(\n",
    "                nn.Linear(28 * 28, 512),\n",
    "                nn.ReLU(),\n",
    "                nn.Linear(512, 512),\n",
    "                nn.ReLU(),\n",
    "                nn.Linear(512, 10)\n",
    "            )\n",
    "\n",
    "        def forward(self, x):\n",
    "            x = self.flatten(x)\n",
    "            logits = self.linear_relu_stack(x)\n",
    "            return logits\n",
    "\n",
    "    model = NeuralNetwork().to('cpu')\n",
    "    return model\n",
    "\n",
    "def trained_mnist(simple_nn, mnist_data_loader_train):\n",
    "    torch.manual_seed(42)\n",
    "    simple_nn = copy.deepcopy(simple_nn)\n",
    "    loss_fn = nn.CrossEntropyLoss()\n",
    "    optimizer = torch.optim.SGD(simple_nn.parameters(), lr=1e-3)\n",
    "    size = len(mnist_data_loader_train.dataset)\n",
    "    # Training 1 epoch\n",
    "    simple_nn.train()\n",
    "    for batch, (X, y) in enumerate(mnist_data_loader_train):\n",
    "        X, y = X.to('cpu'), y.to('cpu')\n",
    "\n",
    "        # Compute prediction error\n",
    "        pred = simple_nn(X)\n",
    "        loss = loss_fn(pred, y)\n",
    "\n",
    "        # Backpropagation\n",
    "        optimizer.zero_grad()\n",
    "        loss.backward()\n",
    "        optimizer.step()\n",
    "\n",
    "        if batch % 100 == 0:\n",
    "            loss, current = loss.item(), batch * len(X)\n",
    "            print(f\"loss: {loss:>7f}  [{current:>5d}/{size:>5d}]\")\n",
    "\n",
    "    return simple_nn"
   ]
  },
  {
   "cell_type": "code",
   "execution_count": 10,
   "id": "5db99872-4bd7-4a48-8bc1-7016b7cfe9f8",
   "metadata": {},
   "outputs": [
    {
     "ename": "NameError",
     "evalue": "name 'mnist_train_loader' is not defined",
     "output_type": "error",
     "traceback": [
      "\u001b[0;31m---------------------------------------------------------------------------\u001b[0m",
      "\u001b[0;31mNameError\u001b[0m                                 Traceback (most recent call last)",
      "Input \u001b[0;32mIn [10]\u001b[0m, in \u001b[0;36m<module>\u001b[0;34m\u001b[0m\n\u001b[0;32m----> 1\u001b[0m model \u001b[38;5;241m=\u001b[39m trained_mnist(simple_nn(), \u001b[43mmnist_train_loader\u001b[49m)\n",
      "\u001b[0;31mNameError\u001b[0m: name 'mnist_train_loader' is not defined"
     ]
    }
   ],
   "source": [
    "model = trained_mnist(simple_nn(), mnist_train_loader)"
   ]
  },
  {
   "cell_type": "code",
   "execution_count": 4,
   "id": "272debea-abc3-43de-a5b8-ee9d21807f5a",
   "metadata": {},
   "outputs": [
    {
     "ename": "NameError",
     "evalue": "name 'VisionDataset' is not defined",
     "output_type": "error",
     "traceback": [
      "\u001b[0;31m---------------------------------------------------------------------------\u001b[0m",
      "\u001b[0;31mNameError\u001b[0m                                 Traceback (most recent call last)",
      "Input \u001b[0;32mIn [4]\u001b[0m, in \u001b[0;36m<module>\u001b[0;34m\u001b[0m\n\u001b[0;32m----> 1\u001b[0m train_ds \u001b[38;5;241m=\u001b[39m \u001b[43mVisionDataset\u001b[49m(mnist_train_loader, label_type\u001b[38;5;241m=\u001b[39m\u001b[38;5;124m'\u001b[39m\u001b[38;5;124mclassification\u001b[39m\u001b[38;5;124m'\u001b[39m)\n\u001b[1;32m      2\u001b[0m test_ds \u001b[38;5;241m=\u001b[39m VisionDataset(mnist_test_loader, label_type\u001b[38;5;241m=\u001b[39m\u001b[38;5;124m'\u001b[39m\u001b[38;5;124mclassification\u001b[39m\u001b[38;5;124m'\u001b[39m)\n",
      "\u001b[0;31mNameError\u001b[0m: name 'VisionDataset' is not defined"
     ]
    }
   ],
   "source": [
    "train_ds = VisionDataset(mnist_train_loader, label_type='classification')\n",
    "test_ds = VisionDataset(mnist_test_loader, label_type='classification')"
   ]
  },
  {
   "cell_type": "markdown",
   "id": "f6920693-ffd3-4207-b8e4-5cf3452c57bd",
   "metadata": {},
   "source": [
    "## Running peformance report on classification"
   ]
  },
  {
   "cell_type": "code",
   "execution_count": 12,
   "id": "bdd52a29-2612-4dbc-8507-31250b9feadc",
   "metadata": {
    "tags": []
   },
   "outputs": [
    {
     "name": "stdout",
     "output_type": "stream",
     "text": [
      "tensor([2, 3, 5, 7, 6, 0, 5, 2, 7, 0, 9, 0, 0, 6, 5, 9, 5, 4, 3, 3, 4, 8, 8, 4,\n",
      "        5, 6, 1, 6, 4, 1, 6, 5, 9, 5, 1, 7, 9, 0, 6, 1, 2, 2, 7, 7, 7, 6, 6, 7,\n",
      "        3, 8, 0, 0, 5, 1, 1, 5, 8, 0, 5, 2, 3, 4, 2, 2])\n"
     ]
    },
    {
     "ename": "IndexError",
     "evalue": "too many indices for tensor of dimension 1",
     "output_type": "error",
     "traceback": [
      "\u001b[0;31m---------------------------------------------------------------------------\u001b[0m",
      "\u001b[0;31mIndexError\u001b[0m                                Traceback (most recent call last)",
      "Input \u001b[0;32mIn [12]\u001b[0m, in \u001b[0;36m<module>\u001b[0;34m\u001b[0m\n\u001b[1;32m      1\u001b[0m check \u001b[38;5;241m=\u001b[39m ConfusionMatrixReport(prediction_extract\u001b[38;5;241m=\u001b[39mnn\u001b[38;5;241m.\u001b[39mSoftmax(dim\u001b[38;5;241m=\u001b[39m\u001b[38;5;241m1\u001b[39m))\n\u001b[0;32m----> 2\u001b[0m \u001b[43mcheck\u001b[49m\u001b[38;5;241;43m.\u001b[39;49m\u001b[43mrun\u001b[49m\u001b[43m(\u001b[49m\u001b[43mtrain_ds\u001b[49m\u001b[43m,\u001b[49m\u001b[43m \u001b[49m\u001b[43mmodel\u001b[49m\u001b[43m)\u001b[49m\n",
      "File \u001b[0;32m~/git/deepchecks/deepchecks/core/check.py:475\u001b[0m, in \u001b[0;36mSingleDatasetBaseCheck.run\u001b[0;34m(self, dataset, model)\u001b[0m\n\u001b[1;32m    473\u001b[0m \u001b[38;5;124;03m\"\"\"Run check.\"\"\"\u001b[39;00m\n\u001b[1;32m    474\u001b[0m \u001b[38;5;28;01massert\u001b[39;00m \u001b[38;5;28mself\u001b[39m\u001b[38;5;241m.\u001b[39mcontext_type \u001b[38;5;129;01mis\u001b[39;00m \u001b[38;5;129;01mnot\u001b[39;00m \u001b[38;5;28;01mNone\u001b[39;00m\n\u001b[0;32m--> 475\u001b[0m \u001b[38;5;28;01mreturn\u001b[39;00m \u001b[38;5;28;43mself\u001b[39;49m\u001b[38;5;241;43m.\u001b[39;49m\u001b[43mrun_logic\u001b[49m\u001b[43m(\u001b[49m\u001b[38;5;28;43mself\u001b[39;49m\u001b[38;5;241;43m.\u001b[39;49m\u001b[43mcontext_type\u001b[49m\u001b[43m(\u001b[49m\u001b[43m  \u001b[49m\u001b[38;5;66;43;03m# pylint: disable=not-callable\u001b[39;49;00m\n\u001b[1;32m    476\u001b[0m \u001b[43m    \u001b[49m\u001b[43mdataset\u001b[49m\u001b[43m,\u001b[49m\n\u001b[1;32m    477\u001b[0m \u001b[43m    \u001b[49m\u001b[43mmodel\u001b[49m\u001b[38;5;241;43m=\u001b[39;49m\u001b[43mmodel\u001b[49m\n\u001b[1;32m    478\u001b[0m \u001b[43m\u001b[49m\u001b[43m)\u001b[49m\u001b[43m)\u001b[49m\n",
      "File \u001b[0;32m~/git/deepchecks/deepchecks/core/check.py:343\u001b[0m, in \u001b[0;36mwrap_run.<locals>.wrapped\u001b[0;34m(*args, **kwargs)\u001b[0m\n\u001b[1;32m    341\u001b[0m \u001b[38;5;129m@wraps\u001b[39m(func)\n\u001b[1;32m    342\u001b[0m \u001b[38;5;28;01mdef\u001b[39;00m \u001b[38;5;21mwrapped\u001b[39m(\u001b[38;5;241m*\u001b[39margs, \u001b[38;5;241m*\u001b[39m\u001b[38;5;241m*\u001b[39mkwargs):\n\u001b[0;32m--> 343\u001b[0m     result \u001b[38;5;241m=\u001b[39m \u001b[43mfunc\u001b[49m\u001b[43m(\u001b[49m\u001b[38;5;241;43m*\u001b[39;49m\u001b[43margs\u001b[49m\u001b[43m,\u001b[49m\u001b[43m \u001b[49m\u001b[38;5;241;43m*\u001b[39;49m\u001b[38;5;241;43m*\u001b[39;49m\u001b[43mkwargs\u001b[49m\u001b[43m)\u001b[49m\n\u001b[1;32m    344\u001b[0m     \u001b[38;5;28;01mif\u001b[39;00m \u001b[38;5;129;01mnot\u001b[39;00m \u001b[38;5;28misinstance\u001b[39m(result, CheckResult):\n\u001b[1;32m    345\u001b[0m         \u001b[38;5;28;01mraise\u001b[39;00m DeepchecksValueError(\u001b[38;5;124mf\u001b[39m\u001b[38;5;124m'\u001b[39m\u001b[38;5;124mCheck \u001b[39m\u001b[38;5;132;01m{\u001b[39;00mclass_instance\u001b[38;5;241m.\u001b[39mname()\u001b[38;5;132;01m}\u001b[39;00m\u001b[38;5;124m expected to return CheckResult but got: \u001b[39m\u001b[38;5;124m'\u001b[39m\n\u001b[1;32m    346\u001b[0m                                    \u001b[38;5;241m+\u001b[39m \u001b[38;5;28mtype\u001b[39m(result)\u001b[38;5;241m.\u001b[39m\u001b[38;5;18m__name__\u001b[39m)\n",
      "File \u001b[0;32m~/git/deepchecks/deepchecks/vision/checks/performance/confusion_matrix.py:72\u001b[0m, in \u001b[0;36mConfusionMatrixReport.run_logic\u001b[0;34m(self, context)\u001b[0m\n\u001b[1;32m     69\u001b[0m     \u001b[38;5;28;01mif\u001b[39;00m \u001b[38;5;28mself\u001b[39m\u001b[38;5;241m.\u001b[39mprediction_extract:\n\u001b[1;32m     70\u001b[0m         predictions \u001b[38;5;241m=\u001b[39m \u001b[38;5;28mself\u001b[39m\u001b[38;5;241m.\u001b[39mprediction_extract(predictions)\n\u001b[0;32m---> 72\u001b[0m     \u001b[43mcalculator\u001b[49m\u001b[38;5;241;43m.\u001b[39;49m\u001b[43mprocess_batch\u001b[49m\u001b[43m(\u001b[49m\u001b[43mpredictions\u001b[49m\u001b[43m,\u001b[49m\u001b[43m \u001b[49m\u001b[43mlabels\u001b[49m\u001b[43m)\u001b[49m\n\u001b[1;32m     74\u001b[0m confusion_matrix \u001b[38;5;241m=\u001b[39m calculator\u001b[38;5;241m.\u001b[39mreturn_matrix()\n\u001b[1;32m     76\u001b[0m fig \u001b[38;5;241m=\u001b[39m px\u001b[38;5;241m.\u001b[39mimshow(confusion_matrix, x\u001b[38;5;241m=\u001b[39mdataset\u001b[38;5;241m.\u001b[39mget_num_classes(), y\u001b[38;5;241m=\u001b[39mdataset\u001b[38;5;241m.\u001b[39mget_num_classes(), text_auto\u001b[38;5;241m=\u001b[39m\u001b[38;5;28;01mTrue\u001b[39;00m)\n",
      "File \u001b[0;32m~/git/deepchecks/deepchecks/vision/checks/performance/confusion_matrix.py:104\u001b[0m, in \u001b[0;36mCalculateConfusionMatrix.process_batch\u001b[0;34m(self, detections, labels)\u001b[0m\n",
      "\u001b[0;31mIndexError\u001b[0m: too many indices for tensor of dimension 1"
     ]
    }
   ],
   "source": [
    "check = ConfusionMatrixReport(prediction_extract=nn.Softmax(dim=1))\n",
    "check.run(train_ds, model)"
   ]
  },
  {
   "cell_type": "markdown",
   "id": "eb14d7f9-4e40-4f81-8653-6625afbe8bbd",
   "metadata": {},
   "source": [
    "# confusion matrix report object detection"
   ]
  },
  {
   "cell_type": "code",
   "execution_count": 11,
   "id": "4dc6706c-1cb8-44a3-b40e-80c5d93bbe36",
   "metadata": {},
   "outputs": [],
   "source": [
    "from deepchecks.vision.datasets.detection import coco\n",
    "import numpy as np"
   ]
  },
  {
   "cell_type": "code",
   "execution_count": 12,
   "id": "7a74b963-fa0c-4aac-9996-625f8bc4554d",
   "metadata": {},
   "outputs": [
    {
     "name": "stderr",
     "output_type": "stream",
     "text": [
      "Using cache found in /Users/dbi/.cache/torch/hub/ultralytics_yolov5_master\n",
      "YOLOv5 🚀 2022-1-30 torch 1.10.1 CPU\n",
      "\n",
      "Fusing layers... \n",
      "Model Summary: 213 layers, 7225885 parameters, 0 gradients\n",
      "Adding AutoShape... \n"
     ]
    }
   ],
   "source": [
    "yolo = coco.get_trained_yolov5_object_detection()"
   ]
  },
  {
   "cell_type": "code",
   "execution_count": 22,
   "id": "b9f50637-de3e-4cb6-978e-cc71ad5117b6",
   "metadata": {},
   "outputs": [],
   "source": [
    "coco_dataloader = coco.get_coco_dataloader(batch_size=10)"
   ]
  },
  {
   "cell_type": "code",
   "execution_count": 38,
   "id": "4299d77c-4e99-4b45-a2d7-affa9d3d8c09",
   "metadata": {},
   "outputs": [],
   "source": [
    "from deepchecks.vision.dataset import VisionData"
   ]
  },
  {
   "cell_type": "code",
   "execution_count": 39,
   "id": "7a105788-e0b1-42cc-94cc-fe0292fdaa70",
   "metadata": {},
   "outputs": [],
   "source": [
    "from deepchecks.vision.utils.detection_formatters import DetectionLabelFormatter, DetectionPredictionFormatter\n",
    "train_ds = VisionData(coco_dataloader, label_transformer=DetectionLabelFormatter(lambda x: x), num_classes=80)"
   ]
  },
  {
   "cell_type": "code",
   "execution_count": null,
   "id": "81821ee9-2c46-446a-92fc-142b855f833e",
   "metadata": {
    "scrolled": false
   },
   "outputs": [
    {
     "name": "stderr",
     "output_type": "stream",
     "text": [
      "/Users/dbi/git/deepchecks/venv/lib/python3.8/site-packages/torch/autocast_mode.py:141: UserWarning:\n",
      "\n",
      "User provided device_type of 'cuda', but CUDA is not available. Disabling\n",
      "\n",
      "/Users/dbi/git/deepchecks/venv/lib/python3.8/site-packages/torch/autocast_mode.py:141: UserWarning:\n",
      "\n",
      "User provided device_type of 'cuda', but CUDA is not available. Disabling\n",
      "\n",
      "/Users/dbi/git/deepchecks/venv/lib/python3.8/site-packages/torch/autocast_mode.py:141: UserWarning:\n",
      "\n",
      "User provided device_type of 'cuda', but CUDA is not available. Disabling\n",
      "\n"
     ]
    }
   ],
   "source": [
    "check = ConfusionMatrixReport(prediction_formatter=DetectionPredictionFormatter(coco.yolo_wrapper))\n",
    "check.run(train_ds, yolo)"
   ]
  },
  {
   "cell_type": "code",
   "execution_count": null,
   "id": "c9e2c1c5",
   "metadata": {},
   "outputs": [],
   "source": []
  }
 ],
 "metadata": {
  "kernelspec": {
   "display_name": "Python 3 (ipykernel)",
   "language": "python",
   "name": "python3"
  },
  "language_info": {
   "codemirror_mode": {
    "name": "ipython",
    "version": 3
   },
   "file_extension": ".py",
   "mimetype": "text/x-python",
   "name": "python",
   "nbconvert_exporter": "python",
   "pygments_lexer": "ipython3",
   "version": "3.8.5"
  }
 },
 "nbformat": 4,
 "nbformat_minor": 5
}
