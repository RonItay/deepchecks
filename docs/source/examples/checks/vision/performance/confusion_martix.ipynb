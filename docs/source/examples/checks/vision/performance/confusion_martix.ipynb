{
 "cells": [
  {
   "cell_type": "markdown",
   "id": "e767e792",
   "metadata": {},
   "source": [
    "# Confision Matrix"
   ]
  },
  {
   "cell_type": "code",
   "execution_count": 1,
   "id": "1296c2d1-f748-4cc4-b2b8-4440aedc8431",
   "metadata": {},
   "outputs": [],
   "source": [
    "%load_ext autoreload\n",
    "%autoreload 2"
   ]
  },
  {
   "cell_type": "markdown",
   "id": "09c7ee01-6999-465e-a318-56570b008526",
   "metadata": {},
   "source": [
    "## Imports"
   ]
  },
  {
   "cell_type": "code",
   "execution_count": 2,
   "id": "a8bef717-c573-43ec-8589-a81ecc08f2bb",
   "metadata": {},
   "outputs": [],
   "source": [
    "from deepchecks.vision.dataset import VisionData\n",
    "from torchvision import models\n",
    "import torchvision\n",
    "import torch\n",
    "from torch import nn\n",
    "import torch.nn.functional as F\n",
    "from torchvision.transforms import ToTensor\n",
    "import copy"
   ]
  },
  {
   "cell_type": "code",
   "execution_count": 3,
   "id": "bc53a3b6-ec0b-4727-bdb2-29ed385d30d9",
   "metadata": {
    "tags": []
   },
   "outputs": [],
   "source": [
    "from deepchecks.vision.checks.performance import ConfusionMatrixReport"
   ]
  },
  {
   "cell_type": "markdown",
   "id": "788f9178-dcc1-4212-9a84-949a7a4fde92",
   "metadata": {},
   "source": [
    "## Loading data and model:"
   ]
  },
  {
   "cell_type": "code",
   "execution_count": 8,
   "id": "d6de7931-4d0a-42b5-afcb-ce1cc1d7c93d",
   "metadata": {},
   "outputs": [
    {
     "ename": "ImportError",
     "evalue": "cannot import name 'load_mnist' from 'deepchecks.vision.datasets.classification.mnist' (/Users/dbi/git/deepchecks/deepchecks/vision/datasets/classification/mnist.py)",
     "output_type": "error",
     "traceback": [
      "\u001b[0;31m---------------------------------------------------------------------------\u001b[0m",
      "\u001b[0;31mImportError\u001b[0m                               Traceback (most recent call last)",
      "Input \u001b[0;32mIn [8]\u001b[0m, in \u001b[0;36m<module>\u001b[0;34m\u001b[0m\n\u001b[0;32m----> 1\u001b[0m \u001b[38;5;28;01mfrom\u001b[39;00m \u001b[38;5;21;01mdeepchecks\u001b[39;00m\u001b[38;5;21;01m.\u001b[39;00m\u001b[38;5;21;01mvision\u001b[39;00m\u001b[38;5;21;01m.\u001b[39;00m\u001b[38;5;21;01mdatasets\u001b[39;00m\u001b[38;5;21;01m.\u001b[39;00m\u001b[38;5;21;01mclassification\u001b[39;00m\u001b[38;5;21;01m.\u001b[39;00m\u001b[38;5;21;01mmnist\u001b[39;00m \u001b[38;5;28;01mimport\u001b[39;00m load_mnist, MNistNet, mnist_train_loader, mnist_test_loader\n",
      "\u001b[0;31mImportError\u001b[0m: cannot import name 'load_mnist' from 'deepchecks.vision.datasets.classification.mnist' (/Users/dbi/git/deepchecks/deepchecks/vision/datasets/classification/mnist.py)"
     ]
    }
   ],
   "source": [
    "from deepchecks.vision.datasets.classification.mnist import load_mnist, MNistNet, mnist_train_loader, mnist_test_loader"
   ]
  },
  {
   "cell_type": "code",
   "execution_count": 9,
   "id": "89124a96-4ca8-4901-b699-cbc30a56b209",
   "metadata": {},
   "outputs": [],
   "source": [
    "def simple_nn():\n",
    "    torch.manual_seed(42)\n",
    "\n",
    "    # Define model\n",
    "    class NeuralNetwork(nn.Module):\n",
    "        def __init__(self):\n",
    "            super(NeuralNetwork, self).__init__()\n",
    "            self.flatten = nn.Flatten()\n",
    "            self.linear_relu_stack = nn.Sequential(\n",
    "                nn.Linear(28 * 28, 512),\n",
    "                nn.ReLU(),\n",
    "                nn.Linear(512, 512),\n",
    "                nn.ReLU(),\n",
    "                nn.Linear(512, 10)\n",
    "            )\n",
    "\n",
    "        def forward(self, x):\n",
    "            x = self.flatten(x)\n",
    "            logits = self.linear_relu_stack(x)\n",
    "            return logits\n",
    "\n",
    "    model = NeuralNetwork().to('cpu')\n",
    "    return model\n",
    "\n",
    "def trained_mnist(simple_nn, mnist_data_loader_train):\n",
    "    torch.manual_seed(42)\n",
    "    simple_nn = copy.deepcopy(simple_nn)\n",
    "    loss_fn = nn.CrossEntropyLoss()\n",
    "    optimizer = torch.optim.SGD(simple_nn.parameters(), lr=1e-3)\n",
    "    size = len(mnist_data_loader_train.dataset)\n",
    "    # Training 1 epoch\n",
    "    simple_nn.train()\n",
    "    for batch, (X, y) in enumerate(mnist_data_loader_train):\n",
    "        X, y = X.to('cpu'), y.to('cpu')\n",
    "\n",
    "        # Compute prediction error\n",
    "        pred = simple_nn(X)\n",
    "        loss = loss_fn(pred, y)\n",
    "\n",
    "        # Backpropagation\n",
    "        optimizer.zero_grad()\n",
    "        loss.backward()\n",
    "        optimizer.step()\n",
    "\n",
    "        if batch % 100 == 0:\n",
    "            loss, current = loss.item(), batch * len(X)\n",
    "            print(f\"loss: {loss:>7f}  [{current:>5d}/{size:>5d}]\")\n",
    "\n",
    "    return simple_nn"
   ]
  },
  {
   "cell_type": "code",
   "execution_count": 10,
   "id": "5db99872-4bd7-4a48-8bc1-7016b7cfe9f8",
   "metadata": {},
   "outputs": [
    {
     "ename": "NameError",
     "evalue": "name 'mnist_train_loader' is not defined",
     "output_type": "error",
     "traceback": [
      "\u001b[0;31m---------------------------------------------------------------------------\u001b[0m",
      "\u001b[0;31mNameError\u001b[0m                                 Traceback (most recent call last)",
      "Input \u001b[0;32mIn [10]\u001b[0m, in \u001b[0;36m<module>\u001b[0;34m\u001b[0m\n\u001b[0;32m----> 1\u001b[0m model \u001b[38;5;241m=\u001b[39m trained_mnist(simple_nn(), \u001b[43mmnist_train_loader\u001b[49m)\n",
      "\u001b[0;31mNameError\u001b[0m: name 'mnist_train_loader' is not defined"
     ]
    }
   ],
   "source": [
    "model = trained_mnist(simple_nn(), mnist_train_loader)"
   ]
  },
  {
   "cell_type": "code",
   "execution_count": 4,
   "id": "272debea-abc3-43de-a5b8-ee9d21807f5a",
   "metadata": {},
   "outputs": [
    {
     "ename": "NameError",
     "evalue": "name 'VisionDataset' is not defined",
     "output_type": "error",
     "traceback": [
      "\u001b[0;31m---------------------------------------------------------------------------\u001b[0m",
      "\u001b[0;31mNameError\u001b[0m                                 Traceback (most recent call last)",
      "Input \u001b[0;32mIn [4]\u001b[0m, in \u001b[0;36m<module>\u001b[0;34m\u001b[0m\n\u001b[0;32m----> 1\u001b[0m train_ds \u001b[38;5;241m=\u001b[39m \u001b[43mVisionDataset\u001b[49m(mnist_train_loader, label_type\u001b[38;5;241m=\u001b[39m\u001b[38;5;124m'\u001b[39m\u001b[38;5;124mclassification\u001b[39m\u001b[38;5;124m'\u001b[39m)\n\u001b[1;32m      2\u001b[0m test_ds \u001b[38;5;241m=\u001b[39m VisionDataset(mnist_test_loader, label_type\u001b[38;5;241m=\u001b[39m\u001b[38;5;124m'\u001b[39m\u001b[38;5;124mclassification\u001b[39m\u001b[38;5;124m'\u001b[39m)\n",
      "\u001b[0;31mNameError\u001b[0m: name 'VisionDataset' is not defined"
     ]
    }
   ],
   "source": [
    "train_ds = VisionDataset(mnist_train_loader, label_type='classification')\n",
    "test_ds = VisionDataset(mnist_test_loader, label_type='classification')"
   ]
  },
  {
   "cell_type": "markdown",
   "id": "f6920693-ffd3-4207-b8e4-5cf3452c57bd",
   "metadata": {},
   "source": [
    "## Running peformance report on classification"
   ]
  },
  {
   "cell_type": "markdown",
   "id": "eb14d7f9-4e40-4f81-8653-6625afbe8bbd",
   "metadata": {},
   "source": [
    "# confusion matrix report object detection"
   ]
  },
  {
   "cell_type": "code",
   "execution_count": 4,
   "id": "4dc6706c-1cb8-44a3-b40e-80c5d93bbe36",
   "metadata": {},
   "outputs": [],
   "source": [
    "from deepchecks.vision.datasets.detection import coco\n",
    "import numpy as np"
   ]
  },
  {
   "cell_type": "code",
   "execution_count": 5,
   "id": "7a74b963-fa0c-4aac-9996-625f8bc4554d",
   "metadata": {},
   "outputs": [
    {
     "name": "stderr",
     "output_type": "stream",
     "text": [
      "Using cache found in /Users/dbi/.cache/torch/hub/ultralytics_yolov5_master\n",
      "YOLOv5 🚀 2022-1-30 torch 1.10.1 CPU\n",
      "\n",
      "Fusing layers... \n",
      "Model Summary: 213 layers, 7225885 parameters, 0 gradients\n",
      "Adding AutoShape... \n"
     ]
    }
   ],
   "source": [
    "yolo = coco.load_model(pretrained=True)\n"
   ]
  },
  {
   "cell_type": "code",
   "execution_count": 6,
   "id": "b9f50637-de3e-4cb6-978e-cc71ad5117b6",
   "metadata": {},
   "outputs": [
    {
     "name": "stdout",
     "output_type": "stream",
     "text": [
      "Using downloaded and verified file: /Users/dbi/git/deepchecks/deepchecks/vision/datasets/detection/coco128.zip\n",
      "Extracting /Users/dbi/git/deepchecks/deepchecks/vision/datasets/detection/coco128.zip to /Users/dbi/git/deepchecks/deepchecks/vision/datasets/detection\n"
     ]
    }
   ],
   "source": [
    "coco_dataloader = coco.load_dataset()"
   ]
  },
  {
   "cell_type": "code",
   "execution_count": 7,
   "id": "4299d77c-4e99-4b45-a2d7-affa9d3d8c09",
   "metadata": {},
   "outputs": [],
   "source": [
    "from deepchecks.vision.dataset import VisionData"
   ]
  },
  {
   "cell_type": "code",
   "execution_count": 8,
   "id": "7a105788-e0b1-42cc-94cc-fe0292fdaa70",
   "metadata": {},
   "outputs": [],
   "source": [
    "from deepchecks.vision.utils.detection_formatters import DetectionLabelFormatter, DetectionPredictionFormatter\n",
    "train_ds = VisionData(coco_dataloader, label_transformer=DetectionLabelFormatter(lambda x: x), num_classes=80)"
   ]
  },
  {
   "cell_type": "code",
   "execution_count": null,
   "id": "81821ee9-2c46-446a-92fc-142b855f833e",
   "metadata": {
    "scrolled": true
   },
   "outputs": [
    {
     "name": "stderr",
     "output_type": "stream",
     "text": [
      "/Users/dbi/git/deepchecks/venv/lib/python3.8/site-packages/torch/autocast_mode.py:141: UserWarning:\n",
      "\n",
      "User provided device_type of 'cuda', but CUDA is not available. Disabling\n",
      "\n",
      "/Users/dbi/git/deepchecks/venv/lib/python3.8/site-packages/torch/autocast_mode.py:141: UserWarning:\n",
      "\n",
      "User provided device_type of 'cuda', but CUDA is not available. Disabling\n",
      "\n",
      "/Users/dbi/git/deepchecks/venv/lib/python3.8/site-packages/torch/autocast_mode.py:141: UserWarning:\n",
      "\n",
      "User provided device_type of 'cuda', but CUDA is not available. Disabling\n",
      "\n"
     ]
    }
   ],
   "source": [
    "check = ConfusionMatrixReport(prediction_formatter=DetectionPredictionFormatter(coco.yolo_wrapper))\n",
    "result = check.run(train_ds, yolo)"
   ]
  },
  {
   "cell_type": "code",
   "execution_count": null,
   "id": "aadd2750",
   "metadata": {
    "scrolled": false
   },
   "outputs": [],
   "source": [
    "result"
   ]
  },
  {
   "cell_type": "code",
   "execution_count": null,
   "id": "fe3c39c8",
   "metadata": {},
   "outputs": [],
   "source": []
  }
 ],
 "metadata": {
  "kernelspec": {
   "display_name": "Python 3 (ipykernel)",
   "language": "python",
   "name": "python3"
  },
  "language_info": {
   "codemirror_mode": {
    "name": "ipython",
    "version": 3
   },
   "file_extension": ".py",
   "mimetype": "text/x-python",
   "name": "python",
   "nbconvert_exporter": "python",
   "pygments_lexer": "ipython3",
   "version": "3.8.5"
  }
 },
 "nbformat": 4,
 "nbformat_minor": 5
}
